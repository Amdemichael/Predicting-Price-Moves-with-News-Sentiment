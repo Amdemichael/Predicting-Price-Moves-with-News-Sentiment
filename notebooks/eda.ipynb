{
 "cells": [
  {
   "cell_type": "code",
   "execution_count": 2,
   "metadata": {},
   "outputs": [
    {
     "ename": "ModuleNotFoundError",
     "evalue": "No module named 'scripts.eda_news'",
     "output_type": "error",
     "traceback": [
      "\u001b[31m---------------------------------------------------------------------------\u001b[39m",
      "\u001b[31mModuleNotFoundError\u001b[39m                       Traceback (most recent call last)",
      "\u001b[36mCell\u001b[39m\u001b[36m \u001b[39m\u001b[32mIn[2]\u001b[39m\u001b[32m, line 1\u001b[39m\n\u001b[32m----> \u001b[39m\u001b[32m1\u001b[39m \u001b[38;5;28;01mfrom\u001b[39;00m\u001b[38;5;250m \u001b[39m\u001b[34;01mscripts\u001b[39;00m\u001b[34;01m.\u001b[39;00m\u001b[34;01meda_news\u001b[39;00m\u001b[38;5;250m \u001b[39m\u001b[38;5;28;01mimport\u001b[39;00m load_news_data, describe_news, plot_news_timeline\n\u001b[32m      2\u001b[39m \u001b[38;5;28;01mfrom\u001b[39;00m\u001b[38;5;250m \u001b[39m\u001b[34;01mscripts\u001b[39;00m\u001b[34;01m.\u001b[39;00m\u001b[34;01meda_stock\u001b[39;00m\u001b[38;5;250m \u001b[39m\u001b[38;5;28;01mimport\u001b[39;00m load_multiple_stock_files, describe_stock, plot_stock\n\u001b[32m      3\u001b[39m \u001b[38;5;28;01mfrom\u001b[39;00m\u001b[38;5;250m \u001b[39m\u001b[34;01mscripts\u001b[39;00m\u001b[34;01m.\u001b[39;00m\u001b[34;01msentiment_utils\u001b[39;00m\u001b[38;5;250m \u001b[39m\u001b[38;5;28;01mimport\u001b[39;00m compute_sentiment, get_daily_sentiment\n",
      "\u001b[31mModuleNotFoundError\u001b[39m: No module named 'scripts.eda_news'"
     ]
    }
   ],
   "source": [
    "from scripts.eda_news import load_news_data, describe_news, plot_news_timeline\n",
    "from scripts.eda_stock import load_multiple_stock_files, describe_stock, plot_stock\n",
    "from scripts.sentiment_utils import compute_sentiment, get_daily_sentiment\n",
    "from scripts.merge_utils import merge_news_stock, plot_correlation"
   ]
  },
  {
   "cell_type": "code",
   "execution_count": null,
   "metadata": {},
   "outputs": [],
   "source": [
    "# Load and analyze news\n",
    "news_df = load_news_data('../data/news_data.csv')\n",
    "describe_news(news_df)\n",
    "plot_news_timeline(news_df)"
   ]
  },
  {
   "cell_type": "code",
   "execution_count": null,
   "metadata": {},
   "outputs": [],
   "source": [
    "# Load and analyze stock\n",
    "stock_df = load_multiple_stock_files('../data/historical')\n",
    "describe_stock(stock_df)\n",
    "plot_stock(stock_df)"
   ]
  },
  {
   "cell_type": "code",
   "execution_count": null,
   "metadata": {},
   "outputs": [],
   "source": [
    "# Sentiment and merge\n",
    "news_df = compute_sentiment(news_df)\n",
    "daily_sentiment = get_daily_sentiment(news_df)\n",
    "merged_df = merge_news_stock(stock_df, daily_sentiment)\n",
    "plot_correlation(merged_df)"
   ]
  }
 ],
 "metadata": {
  "kernelspec": {
   "display_name": "taenv",
   "language": "python",
   "name": "python3"
  },
  "language_info": {
   "codemirror_mode": {
    "name": "ipython",
    "version": 3
   },
   "file_extension": ".py",
   "mimetype": "text/x-python",
   "name": "python",
   "nbconvert_exporter": "python",
   "pygments_lexer": "ipython3",
   "version": "3.11.0"
  }
 },
 "nbformat": 4,
 "nbformat_minor": 2
}
